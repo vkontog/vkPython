{
 "cells": [
  {
   "cell_type": "code",
   "execution_count": 1,
   "metadata": {
    "collapsed": true
   },
   "outputs": [],
   "source": [
    "#https://towardsdatascience.com/multi-class-text-classification-with-scikit-learn-12f1e60e0a9f\n",
    "#https://www.netpromoter.com/know/"
   ]
  },
  {
   "cell_type": "code",
   "execution_count": 1,
   "metadata": {
    "collapsed": true
   },
   "outputs": [],
   "source": [
    "%matplotlib inline"
   ]
  },
  {
   "cell_type": "code",
   "execution_count": 2,
   "metadata": {
    "collapsed": true
   },
   "outputs": [],
   "source": [
    "import pandas as pd\n",
    "from io import StringIO\n",
    "import matplotlib.pyplot as plt\n",
    "import nltk\n",
    "\n",
    "from sklearn.feature_selection import chi2\n",
    "import numpy as np\n",
    "\n",
    "import seaborn as sns"
   ]
  },
  {
   "cell_type": "code",
   "execution_count": 4,
   "metadata": {
    "collapsed": true
   },
   "outputs": [],
   "source": [
    "from sklearn.feature_extraction.text import TfidfVectorizer"
   ]
  },
  {
   "cell_type": "markdown",
   "metadata": {},
   "source": [
    "<b> Initial Loading </b>"
   ]
  },
  {
   "cell_type": "code",
   "execution_count": 5,
   "metadata": {
    "collapsed": true
   },
   "outputs": [],
   "source": [
    "df = pd.read_csv(r'\\\\e1001spss1\\working area\\Data Mining\\Text Mining\\NPS\\NPS_res2_cleansed.csv',sep= \";\" )"
   ]
  },
  {
   "cell_type": "code",
   "execution_count": 6,
   "metadata": {},
   "outputs": [
    {
     "data": {
      "text/html": [
       "<div>\n",
       "<style>\n",
       "    .dataframe thead tr:only-child th {\n",
       "        text-align: right;\n",
       "    }\n",
       "\n",
       "    .dataframe thead th {\n",
       "        text-align: left;\n",
       "    }\n",
       "\n",
       "    .dataframe tbody tr th {\n",
       "        vertical-align: top;\n",
       "    }\n",
       "</style>\n",
       "<table border=\"1\" class=\"dataframe\">\n",
       "  <thead>\n",
       "    <tr style=\"text-align: right;\">\n",
       "      <th></th>\n",
       "      <th>Unnamed: 0</th>\n",
       "      <th>CST_CD</th>\n",
       "      <th>RESPONSE_ID</th>\n",
       "      <th>Score</th>\n",
       "    </tr>\n",
       "  </thead>\n",
       "  <tbody>\n",
       "    <tr>\n",
       "      <th>count</th>\n",
       "      <td>9305.000000</td>\n",
       "      <td>9.305000e+03</td>\n",
       "      <td>9.305000e+03</td>\n",
       "      <td>9305.000000</td>\n",
       "    </tr>\n",
       "    <tr>\n",
       "      <th>mean</th>\n",
       "      <td>4652.000000</td>\n",
       "      <td>1.119307e+07</td>\n",
       "      <td>6.953722e+09</td>\n",
       "      <td>6.112628</td>\n",
       "    </tr>\n",
       "    <tr>\n",
       "      <th>std</th>\n",
       "      <td>2686.266461</td>\n",
       "      <td>2.298825e+07</td>\n",
       "      <td>1.662763e+07</td>\n",
       "      <td>3.563211</td>\n",
       "    </tr>\n",
       "    <tr>\n",
       "      <th>min</th>\n",
       "      <td>0.000000</td>\n",
       "      <td>3.540000e+02</td>\n",
       "      <td>6.884943e+09</td>\n",
       "      <td>0.000000</td>\n",
       "    </tr>\n",
       "    <tr>\n",
       "      <th>25%</th>\n",
       "      <td>2326.000000</td>\n",
       "      <td>1.426034e+06</td>\n",
       "      <td>6.945892e+09</td>\n",
       "      <td>3.000000</td>\n",
       "    </tr>\n",
       "    <tr>\n",
       "      <th>50%</th>\n",
       "      <td>4652.000000</td>\n",
       "      <td>3.794362e+06</td>\n",
       "      <td>6.957692e+09</td>\n",
       "      <td>7.000000</td>\n",
       "    </tr>\n",
       "    <tr>\n",
       "      <th>75%</th>\n",
       "      <td>6978.000000</td>\n",
       "      <td>6.076017e+06</td>\n",
       "      <td>6.966752e+09</td>\n",
       "      <td>10.000000</td>\n",
       "    </tr>\n",
       "    <tr>\n",
       "      <th>max</th>\n",
       "      <td>9304.000000</td>\n",
       "      <td>8.629256e+07</td>\n",
       "      <td>6.974752e+09</td>\n",
       "      <td>10.000000</td>\n",
       "    </tr>\n",
       "  </tbody>\n",
       "</table>\n",
       "</div>"
      ],
      "text/plain": [
       "        Unnamed: 0        CST_CD   RESPONSE_ID        Score\n",
       "count  9305.000000  9.305000e+03  9.305000e+03  9305.000000\n",
       "mean   4652.000000  1.119307e+07  6.953722e+09     6.112628\n",
       "std    2686.266461  2.298825e+07  1.662763e+07     3.563211\n",
       "min       0.000000  3.540000e+02  6.884943e+09     0.000000\n",
       "25%    2326.000000  1.426034e+06  6.945892e+09     3.000000\n",
       "50%    4652.000000  3.794362e+06  6.957692e+09     7.000000\n",
       "75%    6978.000000  6.076017e+06  6.966752e+09    10.000000\n",
       "max    9304.000000  8.629256e+07  6.974752e+09    10.000000"
      ]
     },
     "execution_count": 6,
     "metadata": {},
     "output_type": "execute_result"
    }
   ],
   "source": [
    "df.describe()"
   ]
  },
  {
   "cell_type": "code",
   "execution_count": 7,
   "metadata": {
    "collapsed": true
   },
   "outputs": [],
   "source": [
    "def NPScorer (score):\n",
    "        if score <7:\n",
    "            NPS = '1. Detractor'\n",
    "        elif score < 9:\n",
    "            NPS = '2. Passive'\n",
    "        else:\n",
    "            NPS = '3. Promoter'\n",
    "        return NPS        "
   ]
  },
  {
   "cell_type": "markdown",
   "metadata": {},
   "source": [
    "<b> Data Cleansing </b>"
   ]
  },
  {
   "cell_type": "code",
   "execution_count": 8,
   "metadata": {
    "collapsed": true
   },
   "outputs": [],
   "source": [
    "df = df[pd.notnull(df['Translated_text'])]"
   ]
  },
  {
   "cell_type": "code",
   "execution_count": 9,
   "metadata": {
    "collapsed": true
   },
   "outputs": [],
   "source": [
    "df['NPS'] = df['Score'].apply(lambda x : NPScorer(x))"
   ]
  },
  {
   "cell_type": "code",
   "execution_count": 10,
   "metadata": {},
   "outputs": [
    {
     "data": {
      "text/html": [
       "<div>\n",
       "<style>\n",
       "    .dataframe thead tr:only-child th {\n",
       "        text-align: right;\n",
       "    }\n",
       "\n",
       "    .dataframe thead th {\n",
       "        text-align: left;\n",
       "    }\n",
       "\n",
       "    .dataframe tbody tr th {\n",
       "        vertical-align: top;\n",
       "    }\n",
       "</style>\n",
       "<table border=\"1\" class=\"dataframe\">\n",
       "  <thead>\n",
       "    <tr style=\"text-align: right;\">\n",
       "      <th></th>\n",
       "      <th>Unnamed: 0</th>\n",
       "      <th>CST_CD</th>\n",
       "      <th>QUESTION_DATE</th>\n",
       "      <th>RESPONSE_ID</th>\n",
       "      <th>SURVEY_RECIPIENT_ID</th>\n",
       "      <th>Translated_text</th>\n",
       "      <th>Score</th>\n",
       "      <th>NPS</th>\n",
       "      <th>NPS_id</th>\n",
       "    </tr>\n",
       "  </thead>\n",
       "  <tbody>\n",
       "    <tr>\n",
       "      <th>0</th>\n",
       "      <td>0</td>\n",
       "      <td>1290310</td>\n",
       "      <td>2018-11-02 00:00:00.0000000</td>\n",
       "      <td>6955188341</td>\n",
       "      <td>1,25E+11</td>\n",
       "      <td>Some employees were rude and nervous towards m...</td>\n",
       "      <td>2</td>\n",
       "      <td>1. Detractor</td>\n",
       "      <td>0</td>\n",
       "    </tr>\n",
       "    <tr>\n",
       "      <th>1</th>\n",
       "      <td>1</td>\n",
       "      <td>4290125</td>\n",
       "      <td>2018-08-09 00:00:00.0000000</td>\n",
       "      <td>6926341210</td>\n",
       "      <td>33160694338</td>\n",
       "      <td>From the outset I have to say that your bank&amp;#...</td>\n",
       "      <td>0</td>\n",
       "      <td>1. Detractor</td>\n",
       "      <td>0</td>\n",
       "    </tr>\n",
       "    <tr>\n",
       "      <th>2</th>\n",
       "      <td>2</td>\n",
       "      <td>6578482</td>\n",
       "      <td>2018-09-11 00:00:00.0000000</td>\n",
       "      <td>6938210437</td>\n",
       "      <td>25545794813</td>\n",
       "      <td>I have been a customer since 2012, until recen...</td>\n",
       "      <td>2</td>\n",
       "      <td>1. Detractor</td>\n",
       "      <td>0</td>\n",
       "    </tr>\n",
       "    <tr>\n",
       "      <th>3</th>\n",
       "      <td>3</td>\n",
       "      <td>174088</td>\n",
       "      <td>2018-11-29 00:00:00.0000000</td>\n",
       "      <td>6963358618</td>\n",
       "      <td>68041937022</td>\n",
       "      <td>On 28-11-2018 I visited the OO42 PORTO CENTER ...</td>\n",
       "      <td>0</td>\n",
       "      <td>1. Detractor</td>\n",
       "      <td>0</td>\n",
       "    </tr>\n",
       "    <tr>\n",
       "      <th>4</th>\n",
       "      <td>4</td>\n",
       "      <td>4755997</td>\n",
       "      <td>2018-11-23 00:00:00.0000000</td>\n",
       "      <td>6961324439</td>\n",
       "      <td>72330762063</td>\n",
       "      <td>Due to employees. While the bank as an organiz...</td>\n",
       "      <td>1</td>\n",
       "      <td>1. Detractor</td>\n",
       "      <td>0</td>\n",
       "    </tr>\n",
       "  </tbody>\n",
       "</table>\n",
       "</div>"
      ],
      "text/plain": [
       "   Unnamed: 0   CST_CD                QUESTION_DATE  RESPONSE_ID  \\\n",
       "0           0  1290310  2018-11-02 00:00:00.0000000   6955188341   \n",
       "1           1  4290125  2018-08-09 00:00:00.0000000   6926341210   \n",
       "2           2  6578482  2018-09-11 00:00:00.0000000   6938210437   \n",
       "3           3   174088  2018-11-29 00:00:00.0000000   6963358618   \n",
       "4           4  4755997  2018-11-23 00:00:00.0000000   6961324439   \n",
       "\n",
       "  SURVEY_RECIPIENT_ID                                    Translated_text  \\\n",
       "0            1,25E+11  Some employees were rude and nervous towards m...   \n",
       "1         33160694338  From the outset I have to say that your bank&#...   \n",
       "2         25545794813  I have been a customer since 2012, until recen...   \n",
       "3         68041937022  On 28-11-2018 I visited the OO42 PORTO CENTER ...   \n",
       "4         72330762063  Due to employees. While the bank as an organiz...   \n",
       "\n",
       "   Score           NPS  NPS_id  \n",
       "0      2  1. Detractor       0  \n",
       "1      0  1. Detractor       0  \n",
       "2      2  1. Detractor       0  \n",
       "3      0  1. Detractor       0  \n",
       "4      1  1. Detractor       0  "
      ]
     },
     "execution_count": 10,
     "metadata": {},
     "output_type": "execute_result"
    }
   ],
   "source": [
    "df['NPS_id'] = df['NPS'].factorize()[0]\n",
    "NPS_id_df = df[['NPS', 'NPS_id']].drop_duplicates().sort_values('NPS_id')\n",
    "NPS_to_id = dict(NPS_id_df.values)\n",
    "id_to_NPS = dict(NPS_id_df[['NPS_id', 'NPS']].values)\n",
    "df.head()"
   ]
  },
  {
   "cell_type": "markdown",
   "metadata": {},
   "source": [
    "<b>Score Distribution </b>"
   ]
  },
  {
   "cell_type": "code",
   "execution_count": 11,
   "metadata": {},
   "outputs": [
    {
     "data": {
      "image/png": "[encoded data removed]",
      "text/plain": [
       "<matplotlib.figure.Figure at 0x1c484d4eba8>"
      ]
     },
     "metadata": {},
     "output_type": "display_data"
    }
   ],
   "source": [
    "fig = plt.figure(figsize=(8,6))\n",
    "df.groupby('NPS').Translated_text.count().plot.bar(ylim=0)\n",
    "plt.show()"
   ]
  },
  {
   "cell_type": "code",
   "execution_count": 63,
   "metadata": {},
   "outputs": [
    {
     "data": {
      "text/plain": [
       "(9305, 1381)"
      ]
     },
     "execution_count": 63,
     "metadata": {},
     "output_type": "execute_result"
    }
   ],
   "source": [
    "tfidf = TfidfVectorizer(sublinear_tf=True, min_df=10, norm='l2', encoding='latin-1', ngram_range=(1,3), stop_words='english')\n",
    "\n",
    "features = tfidf.fit_transform(df.Translated_text).toarray()\n",
    "labels = df.NPS\n",
    "features.shape\n"
   ]
  },
  {
   "cell_type": "code",
   "execution_count": 64,
   "metadata": {},
   "outputs": [
    {
     "name": "stdout",
     "output_type": "stream",
     "text": [
      "# '1. Detractor':\n",
      "  . Most correlated unigrams:\n",
      ". friendly\n",
      ". fast\n",
      ". good\n",
      ". excellent\n",
      ". service\n",
      "  . Most correlated bigrams:\n",
      ". immediate service\n",
      ". direct service\n",
      ". fast service\n",
      ". good service\n",
      ". excellent service\n",
      "  . Most correlated trigrams:\n",
      ". direct friendly service\n",
      ". direct service friendly\n",
      ". good fast service\n",
      ". long waiting time\n",
      ". service friendly environment\n",
      "# '2. Passive':\n",
      "  . Most correlated unigrams:\n",
      ". relatively\n",
      ". faster\n",
      ". improvement\n",
      ". good\n",
      ". room\n",
      "  . Most correlated bigrams:\n",
      ". fast service\n",
      ". employees helpful\n",
      ". good service\n",
      ". faster service\n",
      ". room improvement\n",
      "  . Most correlated trigrams:\n",
      ". good quick service\n",
      ". service friendly environment\n",
      ". service friendly staff\n",
      ". good fast service\n",
      ". good service employees\n",
      "# '3. Promoter':\n",
      "  . Most correlated unigrams:\n",
      ". impeccable\n",
      ". courtesy\n",
      ". friendly\n",
      ". service\n",
      ". excellent\n",
      "  . Most correlated bigrams:\n",
      ". fast service\n",
      ". immediate service\n",
      ". good service\n",
      ". direct service\n",
      ". excellent service\n",
      "  . Most correlated trigrams:\n",
      ". service courtesy staff\n",
      ". excellent service friendly\n",
      ". direct friendly service\n",
      ". long waiting time\n",
      ". service friendly environment\n"
     ]
    }
   ],
   "source": [
    "N = 5\n",
    "for NPS, NPS_id in sorted(NPS_to_id.items()):\n",
    "    \n",
    "    features_chi2 = chi2(features, labels == NPS)\n",
    "    indices = np.argsort(features_chi2[0])\n",
    "    feature_names = np.array(tfidf.get_feature_names())[indices]\n",
    "    unigrams = [v for v in feature_names if len(v.split(' ')) == 1]\n",
    "    bigrams = [v for v in feature_names if len(v.split(' ')) == 2]\n",
    "    trigrams = [v for v in feature_names if len(v.split(' ')) == 3]\n",
    "    \n",
    "    \n",
    "    print(\"# '{}':\".format(NPS))\n",
    "    print(\"  . Most correlated unigrams:\\n. {}\".format('\\n. '.join(unigrams[-N:])))\n",
    "    print(\"  . Most correlated bigrams:\\n. {}\".format('\\n. '.join(bigrams[-N:])))\n",
    "    print(\"  . Most correlated trigrams:\\n. {}\".format('\\n. '.join(trigrams[-N:])))\n",
    "    \n",
    "    "
   ]
  },
  {
   "cell_type": "markdown",
   "metadata": {},
   "source": [
    "<b>Naive Bayes Classifier</b>"
   ]
  },
  {
   "cell_type": "code",
   "execution_count": 14,
   "metadata": {
    "collapsed": true
   },
   "outputs": [],
   "source": [
    "from sklearn.model_selection import train_test_split\n",
    "from sklearn.feature_extraction.text import CountVectorizer\n",
    "from sklearn.feature_extraction.text import TfidfTransformer\n",
    "from sklearn.naive_bayes import MultinomialNB\n",
    "\n",
    "X_train, X_test, y_train, y_test = train_test_split(df['Translated_text'], df['NPS'], random_state = 0)\n",
    "count_vect = CountVectorizer()\n",
    "\n",
    "X_train_counts = count_vect.fit_transform(X_train)\n",
    "\n",
    "tfidf_transformer = TfidfTransformer()\n",
    "\n",
    "X_train_tfidf = tfidf_transformer.fit_transform(X_train_counts)\n",
    "\n",
    "clf = MultinomialNB().fit(X_train_tfidf, y_train)\n"
   ]
  },
  {
   "cell_type": "code",
   "execution_count": 15,
   "metadata": {},
   "outputs": [
    {
     "name": "stdout",
     "output_type": "stream",
     "text": [
      "['1. Detractor']\n"
     ]
    }
   ],
   "source": [
    "#Predict!\n",
    "print(clf.predict(count_vect.transform([\"I HAVE COOPERATION WITH YOUR COLOLETTE FOR A MORE YEAR .. AND I HAVE PAID THOUSANDS OF EURO IN TOLOS AND PANORAMICS AND WRITTEN LETTERS. THESE WAYS ARE WAITING TO BE CONTINUOUS !!!! SEE ALSO ALL COOPERATION WITH YOU ... THE COMPLAINTS WHICH HAVE RECORDED LONGLY ... AND MEET ME THAT YOU CAN DO TO REPLACE THE OPERATING OPINION I HAVE FOR YOU .. HERACLES OF HERAKLES Ξ.Ξ¦. Ξ37352480 .... PLEASE ANSWERED AND DO XANATOLMISI Collection AITAIRIA 2NOCHLISEI ..DIOTI WITH THE NEW LAW FOR TAPROSOPIKA MY DATA (AFTER YOU HAVE NOT gIVE PERMISSION FOR USE TO THIRD PARTY) WITH XANAENOCHLISEI .IDI THE CASE THE CHEIRIZETSI The DIKIGOROS ME, AND WILL FILL GOLD !!! I&#39;M WAITING FOR YOUR NEWS .\"])))"
   ]
  },
  {
   "cell_type": "markdown",
   "metadata": {},
   "source": [
    "<b>Model Selection</b>"
   ]
  },
  {
   "cell_type": "code",
   "execution_count": 16,
   "metadata": {
    "collapsed": true
   },
   "outputs": [],
   "source": [
    "from sklearn.linear_model import LogisticRegression\n",
    "from sklearn.ensemble import RandomForestClassifier\n",
    "from sklearn.svm import LinearSVC\n",
    "from sklearn.model_selection import cross_val_score\n",
    "models = [\n",
    "    RandomForestClassifier(n_estimators=200, max_depth=3, random_state=0),\n",
    "    LinearSVC(),\n",
    "    MultinomialNB(),\n",
    "    LogisticRegression(random_state=0),\n",
    "]\n"
   ]
  },
  {
   "cell_type": "code",
   "execution_count": 17,
   "metadata": {
    "collapsed": true
   },
   "outputs": [],
   "source": [
    "CV = 5\n",
    "cv_df = pd.DataFrame(index=range(CV * len(models)))\n",
    "entries = []\n",
    "for model in models:\n",
    "    model_name = model.__class__.__name__\n",
    "    accuracies = cross_val_score(model, features, labels, scoring='accuracy', cv=CV)\n",
    "    for fold_idx, accuracy in enumerate(accuracies):\n",
    "        entries.append((model_name, fold_idx, accuracy))\n",
    "cv_df = pd.DataFrame(entries, columns=['model_name', 'fold_idx', 'accuracy'])"
   ]
  },
  {
   "cell_type": "code",
   "execution_count": 18,
   "metadata": {},
   "outputs": [
    {
     "data": {
      "text/plain": [
       "<matplotlib.axes._subplots.AxesSubplot at 0x1c485e18be0>"
      ]
     },
     "execution_count": 18,
     "metadata": {},
     "output_type": "execute_result"
    },
    {
     "data": {
      "image/png": "[encoded data removed]",
      "text/plain": [
       "<matplotlib.figure.Figure at 0x1c4857deef0>"
      ]
     },
     "metadata": {},
     "output_type": "display_data"
    }
   ],
   "source": [
    "sns.boxplot(x='model_name', y='accuracy', data=cv_df)\n",
    "sns.stripplot(x='model_name', y='accuracy', data=cv_df, \n",
    "              size=8, jitter=True, edgecolor=\"gray\", linewidth=2)"
   ]
  },
  {
   "cell_type": "code",
   "execution_count": 19,
   "metadata": {},
   "outputs": [
    {
     "data": {
      "text/plain": [
       "model_name\n",
       "LinearSVC                 0.746700\n",
       "LogisticRegression        0.757555\n",
       "MultinomialNB             0.756371\n",
       "RandomForestClassifier    0.598079\n",
       "Name: accuracy, dtype: float64"
      ]
     },
     "execution_count": 19,
     "metadata": {},
     "output_type": "execute_result"
    }
   ],
   "source": [
    "cv_df.groupby('model_name').accuracy.mean()"
   ]
  },
  {
   "cell_type": "code",
   "execution_count": 20,
   "metadata": {},
   "outputs": [
    {
     "data": {
      "image/png": "[encoded data removed]",
      "text/plain": [
       "<matplotlib.figure.Figure at 0x1c485adf978>"
      ]
     },
     "metadata": {},
     "output_type": "display_data"
    }
   ],
   "source": [
    "model = LinearSVC()\n",
    "X_train, X_test, y_train, y_test, indices_train, indices_test = train_test_split(features, labels, df.index, test_size=0.33, random_state=0)\n",
    "model.fit(X_train, y_train)\n",
    "\n",
    "y_pred = model.predict(X_test)\n",
    "\n",
    "from sklearn.metrics import confusion_matrix\n",
    "\n",
    "conf_mat = confusion_matrix(y_test, y_pred)\n",
    "\n",
    "fig, ax = plt.subplots(figsize=(10,10))\n",
    "\n",
    "sns.heatmap(conf_mat, annot=True, fmt='d',\n",
    "            xticklabels=NPS_id_df.NPS.values, yticklabels=NPS_id_df.NPS.values)\n",
    "plt.ylabel('Actual')\n",
    "plt.xlabel('Predicted')\n",
    "plt.show()\n"
   ]
  },
  {
   "cell_type": "code",
   "execution_count": 66,
   "metadata": {},
   "outputs": [
    {
     "data": {
      "text/plain": [
       "0       Some employees were rude and nervous towards m...\n",
       "1       From the outset I have to say that your bank&#...\n",
       "2       I have been a customer since 2012, until recen...\n",
       "3       On 28-11-2018 I visited the OO42 PORTO CENTER ...\n",
       "4       Due to employees. While the bank as an organiz...\n",
       "5       As for a formal issue such as the renewal of t...\n",
       "7       The bad rating is for the incredible inconveni...\n",
       "8       Thank you for your ability to give me an estim...\n",
       "9       After my recent visit to the POS terminal I ha...\n",
       "10      I have been trying for about 10 months to get ...\n",
       "11      Unacceptable customer service. The employee wh...\n",
       "12      Why are you looking for reasons and reasons no...\n",
       "13      I am an American citizen of the Greek descent....\n",
       "14      Thank you for giving me the opportunity to wri...\n",
       "15      giati Why do we pay the interest on my card € ...\n",
       "16      THE WORDS DO NOT HAVE TO DO WITH THE SHOP, FRO...\n",
       "17      instead of building new businesses that are of...\n",
       "18      They are unique they do not listen, I have vis...\n",
       "19      I have two EIA companies where from September ...\n",
       "20      Unfortunately, Eurobank does not care whether ...\n",
       "21      the reasons that I have this score are the one...\n",
       "22      The store I visited was always &#39;impersonal...\n",
       "23      I was expecting to pick up money from my own b...\n",
       "24      My mother asked me to analyze Easter Xanthopou...\n",
       "25      Within 10 months I have had more problems with...\n",
       "26      I recently visited your store in Chios for a t...\n",
       "27      I have been a customer with the bank for over ...\n",
       "28      I already recommend the bank to friends, acqua...\n",
       "29      UNACCEPTABLE WAITING 2 HOURS WITH 2 FUNDS TO S...\n",
       "30      If you really want to improve your services th...\n",
       "                              ...                        \n",
       "9269                                                 none\n",
       "9270                                             ACCURATE\n",
       "9271                                             Randomly\n",
       "9272                                                 So??\n",
       "9273                                                  Urs\n",
       "9274                                                 Shit\n",
       "9275                                                Other\n",
       "9276                                                   So\n",
       "9277                                                Phing\n",
       "9278                                                   So\n",
       "9280                                                 LOGO\n",
       "9281                                                  ...\n",
       "9282                                                  Agg\n",
       "9283                                                Other\n",
       "9285                                                  ???\n",
       "9286                                                   ok\n",
       "9287                                                    y\n",
       "9288                                                    .\n",
       "9290                                                    1\n",
       "9292                                                    ,\n",
       "9293                                                    _\n",
       "9295                                                    .\n",
       "9296                                                    -\n",
       "9297                                                    -\n",
       "9298                                                    ?\n",
       "9299                                                    -\n",
       "9301                                                    -\n",
       "9302                                                    .\n",
       "9303                                                    -\n",
       "9304                                                    -\n",
       "Name: Translated_text, Length: 4500, dtype: object"
      ]
     },
     "execution_count": 66,
     "metadata": {},
     "output_type": "execute_result"
    }
   ],
   "source": [
    "df.hea\n",
    "\n"
   ]
  }
 ],
 "metadata": {
  "kernelspec": {
   "display_name": "Python 3",
   "language": "python",
   "name": "python3"
  },
  "language_info": {
   "codemirror_mode": {
    "name": "ipython",
    "version": 3
   },
   "file_extension": ".py",
   "mimetype": "text/x-python",
   "name": "python",
   "nbconvert_exporter": "python",
   "pygments_lexer": "ipython3",
   "version": "3.7.3"
  }
 },
 "nbformat": 4,
 "nbformat_minor": 2
}
