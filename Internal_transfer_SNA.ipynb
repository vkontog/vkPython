{
 "cells": [
  {
   "cell_type": "markdown",
   "id": "rolled-shade",
   "metadata": {},
   "source": [
    "<b>Load the necessery packages</b>"
   ]
  },
  {
   "cell_type": "code",
   "execution_count": 55,
   "id": "graduate-legislature",
   "metadata": {},
   "outputs": [],
   "source": [
    "import pandas as pd\n",
    "import networkx as nx\n",
    "import matplotlib.pyplot as plt"
   ]
  },
  {
   "cell_type": "markdown",
   "id": "underlying-barrier",
   "metadata": {},
   "source": [
    "<b>Load the internal transfers from an uploaded csv</b>"
   ]
  },
  {
   "cell_type": "code",
   "execution_count": 56,
   "id": "dynamic-missile",
   "metadata": {},
   "outputs": [],
   "source": [
    "df = pd.read_csv('uploads/internal_trns.csv',delimiter = '|')"
   ]
  },
  {
   "cell_type": "code",
   "execution_count": 57,
   "id": "beneficial-jimmy",
   "metadata": {},
   "outputs": [
    {
     "data": {
      "text/plain": [
       "FROM_CIF      int64\n",
       "TO_CIF        int64\n",
       "AMT         float64\n",
       "NUM           int64\n",
       "dtype: object"
      ]
     },
     "execution_count": 57,
     "metadata": {},
     "output_type": "execute_result"
    }
   ],
   "source": [
    "df.dtypes"
   ]
  },
  {
   "cell_type": "code",
   "execution_count": 58,
   "id": "european-designer",
   "metadata": {},
   "outputs": [],
   "source": [
    "#df = df.append(df[['TO_CIF','FROM_CIF','AMT','NUM']])"
   ]
  },
  {
   "cell_type": "markdown",
   "id": "elect-context",
   "metadata": {},
   "source": [
    "<b>Convert the pair in to a graph</b>"
   ]
  },
  {
   "cell_type": "code",
   "execution_count": 59,
   "id": "upper-draft",
   "metadata": {},
   "outputs": [],
   "source": [
    "G = nx.Graph()"
   ]
  },
  {
   "cell_type": "code",
   "execution_count": 60,
   "id": "separate-folks",
   "metadata": {},
   "outputs": [],
   "source": [
    " G=nx.nx.from_pandas_edgelist(df, source = 'FROM_CIF', target = 'TO_CIF', edge_attr = ['AMT', 'NUM'],create_using = G)"
   ]
  },
  {
   "cell_type": "markdown",
   "id": "facial-symphony",
   "metadata": {},
   "source": [
    "<b>Find the maximumal Cliques </b>"
   ]
  },
  {
   "cell_type": "code",
   "execution_count": 61,
   "id": "native-reasoning",
   "metadata": {},
   "outputs": [],
   "source": [
    "clique_list = list(nx.find_cliques(G))"
   ]
  },
  {
   "cell_type": "markdown",
   "id": "light-outreach",
   "metadata": {},
   "source": [
    "<b>Conversion to a DataFrame</b>"
   ]
  },
  {
   "cell_type": "code",
   "execution_count": 62,
   "id": "copyrighted-payday",
   "metadata": {},
   "outputs": [],
   "source": [
    "df_c=pd.DataFrame({'Clique_members':clique_list})"
   ]
  },
  {
   "cell_type": "code",
   "execution_count": 63,
   "id": "noticed-worcester",
   "metadata": {},
   "outputs": [],
   "source": [
    "df_c['Clique_length'] = df_c['Clique_members'].apply(len)"
   ]
  },
  {
   "cell_type": "markdown",
   "id": "aging-wilson",
   "metadata": {},
   "source": [
    "<b> Display the cliques of a certain number of members </b>"
   ]
  },
  {
   "cell_type": "code",
   "execution_count": 94,
   "id": "angry-lyric",
   "metadata": {},
   "outputs": [
    {
     "data": {
      "text/html": [
       "<div>\n",
       "<style scoped>\n",
       "    .dataframe tbody tr th:only-of-type {\n",
       "        vertical-align: middle;\n",
       "    }\n",
       "\n",
       "    .dataframe tbody tr th {\n",
       "        vertical-align: top;\n",
       "    }\n",
       "\n",
       "    .dataframe thead th {\n",
       "        text-align: right;\n",
       "    }\n",
       "</style>\n",
       "<table border=\"1\" class=\"dataframe\">\n",
       "  <thead>\n",
       "    <tr style=\"text-align: right;\">\n",
       "      <th></th>\n",
       "      <th>Clique_members</th>\n",
       "      <th>Clique_length</th>\n",
       "    </tr>\n",
       "  </thead>\n",
       "  <tbody>\n",
       "    <tr>\n",
       "      <th>0</th>\n",
       "      <td>[1, 107619]</td>\n",
       "      <td>2</td>\n",
       "    </tr>\n",
       "    <tr>\n",
       "      <th>1</th>\n",
       "      <td>[1, 298503]</td>\n",
       "      <td>2</td>\n",
       "    </tr>\n",
       "    <tr>\n",
       "      <th>2</th>\n",
       "      <td>[1, 586385]</td>\n",
       "      <td>2</td>\n",
       "    </tr>\n",
       "    <tr>\n",
       "      <th>3</th>\n",
       "      <td>[1, 166676]</td>\n",
       "      <td>2</td>\n",
       "    </tr>\n",
       "    <tr>\n",
       "      <th>4</th>\n",
       "      <td>[1, 5864255]</td>\n",
       "      <td>2</td>\n",
       "    </tr>\n",
       "    <tr>\n",
       "      <th>...</th>\n",
       "      <td>...</td>\n",
       "      <td>...</td>\n",
       "    </tr>\n",
       "    <tr>\n",
       "      <th>875231</th>\n",
       "      <td>[2096976, 2096983]</td>\n",
       "      <td>2</td>\n",
       "    </tr>\n",
       "    <tr>\n",
       "      <th>875232</th>\n",
       "      <td>[6291295, 6291300]</td>\n",
       "      <td>2</td>\n",
       "    </tr>\n",
       "    <tr>\n",
       "      <th>875233</th>\n",
       "      <td>[85983148, 3620665]</td>\n",
       "      <td>2</td>\n",
       "    </tr>\n",
       "    <tr>\n",
       "      <th>875234</th>\n",
       "      <td>[2097103, 2097109]</td>\n",
       "      <td>2</td>\n",
       "    </tr>\n",
       "    <tr>\n",
       "      <th>875235</th>\n",
       "      <td>[2097111, 2097122]</td>\n",
       "      <td>2</td>\n",
       "    </tr>\n",
       "  </tbody>\n",
       "</table>\n",
       "<p>845836 rows × 2 columns</p>\n",
       "</div>"
      ],
      "text/plain": [
       "             Clique_members  Clique_length\n",
       "0               [1, 107619]              2\n",
       "1               [1, 298503]              2\n",
       "2               [1, 586385]              2\n",
       "3               [1, 166676]              2\n",
       "4              [1, 5864255]              2\n",
       "...                     ...            ...\n",
       "875231   [2096976, 2096983]              2\n",
       "875232   [6291295, 6291300]              2\n",
       "875233  [85983148, 3620665]              2\n",
       "875234   [2097103, 2097109]              2\n",
       "875235   [2097111, 2097122]              2\n",
       "\n",
       "[845836 rows x 2 columns]"
      ]
     },
     "execution_count": 94,
     "metadata": {},
     "output_type": "execute_result"
    }
   ],
   "source": [
    "df_c[df_c['Clique_length'] ==2]"
   ]
  },
  {
   "cell_type": "markdown",
   "id": "italian-population",
   "metadata": {},
   "source": [
    "<b> Select a clique to be displayed</b>"
   ]
  },
  {
   "cell_type": "code",
   "execution_count": 80,
   "id": "industrial-budapest",
   "metadata": {},
   "outputs": [],
   "source": [
    "subgraph_list = df_c.iloc[616791,0]"
   ]
  },
  {
   "cell_type": "code",
   "execution_count": 81,
   "id": "dutch-definition",
   "metadata": {},
   "outputs": [
    {
     "name": "stdout",
     "output_type": "stream",
     "text": [
      "[17429316, 6233744, 4081437, 1130450, 5044338]\n"
     ]
    }
   ],
   "source": [
    "print(subgraph_list)"
   ]
  },
  {
   "cell_type": "code",
   "execution_count": 82,
   "id": "freelance-swift",
   "metadata": {},
   "outputs": [
    {
     "data": {
      "text/plain": [
       "['17429316', '06233744', '04081437', '01130450', '05044338']"
      ]
     },
     "execution_count": 82,
     "metadata": {},
     "output_type": "execute_result"
    }
   ],
   "source": [
    "\n",
    "#[f'{mem:08d}' for mem in subgraph_list ]"
   ]
  },
  {
   "cell_type": "markdown",
   "id": "lovely-prior",
   "metadata": {},
   "source": [
    "<b> Create a subgraph, containing only the members of the clique </b>"
   ]
  },
  {
   "cell_type": "code",
   "execution_count": 83,
   "id": "connected-sequence",
   "metadata": {},
   "outputs": [],
   "source": [
    "sG = G.subgraph(nodes=subgraph_list)"
   ]
  },
  {
   "cell_type": "markdown",
   "id": "cooked-applicant",
   "metadata": {},
   "source": [
    "<b> Display & export the picture of the subgraph</b>"
   ]
  },
  {
   "cell_type": "code",
   "execution_count": 93,
   "id": "white-applicant",
   "metadata": {},
   "outputs": [
    {
     "data": {
      "image/png": "[encoded data removed]",
      "text/plain": [
       "<Figure size 720x720 with 1 Axes>"
      ]
     },
     "metadata": {},
     "output_type": "display_data"
    }
   ],
   "source": [
    "plt.rcParams['font.size'] = 40\n",
    "fig = plt.figure(figsize = (10,10))\n",
    "nx.draw(sG, with_labels = True)\n",
    "fig.savefig('sg.jpg')"
   ]
  },
  {
   "cell_type": "markdown",
   "id": "great-finding",
   "metadata": {},
   "source": [
    "<b>Display the cliques that a certain cif is a member</b>"
   ]
  },
  {
   "cell_type": "code",
   "execution_count": 107,
   "id": "organizational-toddler",
   "metadata": {},
   "outputs": [
    {
     "data": {
      "text/html": [
       "<div>\n",
       "<style scoped>\n",
       "    .dataframe tbody tr th:only-of-type {\n",
       "        vertical-align: middle;\n",
       "    }\n",
       "\n",
       "    .dataframe tbody tr th {\n",
       "        vertical-align: top;\n",
       "    }\n",
       "\n",
       "    .dataframe thead th {\n",
       "        text-align: right;\n",
       "    }\n",
       "</style>\n",
       "<table border=\"1\" class=\"dataframe\">\n",
       "  <thead>\n",
       "    <tr style=\"text-align: right;\">\n",
       "      <th></th>\n",
       "      <th>Clique_members</th>\n",
       "      <th>Clique_length</th>\n",
       "    </tr>\n",
       "  </thead>\n",
       "  <tbody>\n",
       "    <tr>\n",
       "      <th>0</th>\n",
       "      <td>[1, 107619]</td>\n",
       "      <td>2</td>\n",
       "    </tr>\n",
       "    <tr>\n",
       "      <th>1</th>\n",
       "      <td>[1, 298503]</td>\n",
       "      <td>2</td>\n",
       "    </tr>\n",
       "    <tr>\n",
       "      <th>2</th>\n",
       "      <td>[1, 586385]</td>\n",
       "      <td>2</td>\n",
       "    </tr>\n",
       "    <tr>\n",
       "      <th>3</th>\n",
       "      <td>[1, 166676]</td>\n",
       "      <td>2</td>\n",
       "    </tr>\n",
       "    <tr>\n",
       "      <th>4</th>\n",
       "      <td>[1, 5864255]</td>\n",
       "      <td>2</td>\n",
       "    </tr>\n",
       "  </tbody>\n",
       "</table>\n",
       "</div>"
      ],
      "text/plain": [
       "  Clique_members  Clique_length\n",
       "0    [1, 107619]              2\n",
       "1    [1, 298503]              2\n",
       "2    [1, 586385]              2\n",
       "3    [1, 166676]              2\n",
       "4   [1, 5864255]              2"
      ]
     },
     "execution_count": 107,
     "metadata": {},
     "output_type": "execute_result"
    }
   ],
   "source": [
    "df_c[df_c['Clique_members'].apply(lambda x: 1 in x)]"
   ]
  },
  {
   "cell_type": "code",
   "execution_count": null,
   "id": "entitled-richards",
   "metadata": {},
   "outputs": [],
   "source": []
  }
 ],
 "metadata": {
  "kernelspec": {
   "display_name": "Python 3.6 - AzureML",
   "language": "python",
   "name": "python3-azureml"
  },
  "language_info": {
   "codemirror_mode": {
    "name": "ipython",
    "version": 3
   },
   "file_extension": ".py",
   "mimetype": "text/x-python",
   "name": "python",
   "nbconvert_exporter": "python",
   "pygments_lexer": "ipython3",
   "version": "3.6.9"
  }
 },
 "nbformat": 4,
 "nbformat_minor": 5
}
