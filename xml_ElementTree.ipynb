{
 "cells": [
  {
   "cell_type": "code",
   "execution_count": null,
   "id": "50f267cd-414a-4beb-9118-683805382668",
   "metadata": {},
   "outputs": [],
   "source": [
    "import xml.etree.ElementTree as ET"
   ]
  },
  {
   "cell_type": "code",
   "execution_count": null,
   "id": "bc78ed1a-a2da-4765-ab62-f5d16606877e",
   "metadata": {},
   "outputs": [],
   "source": [
    "booksXml = ET.parse(r'.\\files\\books.xml')"
   ]
  },
  {
   "cell_type": "code",
   "execution_count": null,
   "id": "8f5b3ca9-dc4c-46d7-9cb9-a1525c4ff796",
   "metadata": {},
   "outputs": [],
   "source": [
    "root = booksXml.getroot()"
   ]
  },
  {
   "cell_type": "code",
   "execution_count": null,
   "id": "438402e2-dfdc-40ce-be09-a0984999f4ab",
   "metadata": {},
   "outputs": [],
   "source": [
    "print(ET.tostring(root))"
   ]
  },
  {
   "cell_type": "code",
   "execution_count": null,
   "id": "d650ff25-ffdc-41ca-b2f3-007a650e729a",
   "metadata": {},
   "outputs": [],
   "source": [
    "ids = root.get('id')"
   ]
  },
  {
   "cell_type": "code",
   "execution_count": null,
   "id": "66e549dd-0772-4c14-8527-174ac092e813",
   "metadata": {},
   "outputs": [],
   "source": [
    "print(ids)"
   ]
  },
  {
   "cell_type": "code",
   "execution_count": null,
   "id": "bc937766-9306-4118-9067-4efd9cd85616",
   "metadata": {},
   "outputs": [],
   "source": [
    "print(root.attrib)"
   ]
  },
  {
   "cell_type": "code",
   "execution_count": null,
   "id": "5c6b6d23-0d59-4a2a-80d4-c1ddeb389640",
   "metadata": {},
   "outputs": [],
   "source": [
    "for book in booksXml.findall('book'):\n",
    "    print(book.get('id'),book.attrib)\n",
    "    for bookDetails in book.findall('*'):\n",
    "        print('\\t{0} : {1}'.format(bookDetails.tag,bookDetails.text))\n",
    "        if (bookDetails.tag =='genre' and bookDetails.text == 'Fantasy'):\n",
    "            book.set('Book Genre', 'Fantasy')\n",
    "        else:\n",
    "            book.set('Book Genre', 'Non Fantasy')"
   ]
  },
  {
   "cell_type": "code",
   "execution_count": null,
   "id": "ff93ec42-126b-4bee-a4f1-2c6e71bbc4dc",
   "metadata": {},
   "outputs": [],
   "source": [
    "newBook1 = ET.fromstring('<book id =\\'10001\\'><title>New Book no1</title></book>')"
   ]
  },
  {
   "cell_type": "code",
   "execution_count": null,
   "id": "f9185600-27c7-4abb-a641-a57af165c9d5",
   "metadata": {},
   "outputs": [],
   "source": [
    "root.append(newBook1)"
   ]
  },
  {
   "cell_type": "code",
   "execution_count": null,
   "id": "127c6dcf-9391-412e-9f44-efadce57c37b",
   "metadata": {},
   "outputs": [],
   "source": [
    "booksXml.write(r'.\\files\\books.xml')"
   ]
  },
  {
   "cell_type": "code",
   "execution_count": null,
   "id": "d8e78981-bc88-40bb-b7f8-2cceb5fad03b",
   "metadata": {},
   "outputs": [],
   "source": [
    "book111 = root.find(\".//book[@id = 'bk112'])"
   ]
  },
  {
   "cell_type": "code",
   "execution_count": null,
   "id": "5142e022-d195-4bec-aac1-39121f54e199",
   "metadata": {},
   "outputs": [],
   "source": [
    "print(book111.find(\".//title\").text)"
   ]
  }
 ],
 "metadata": {
  "kernelspec": {
   "display_name": "Python 3 (ipykernel)",
   "language": "python",
   "name": "python3"
  },
  "language_info": {
   "codemirror_mode": {
    "name": "ipython",
    "version": 3
   },
   "file_extension": ".py",
   "mimetype": "text/x-python",
   "name": "python",
   "nbconvert_exporter": "python",
   "pygments_lexer": "ipython3",
   "version": "3.11.7"
  }
 },
 "nbformat": 4,
 "nbformat_minor": 5
}
