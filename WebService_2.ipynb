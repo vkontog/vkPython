{
 "cells": [
  {
   "cell_type": "code",
   "execution_count": 8,
   "id": "12ab11cd",
   "metadata": {},
   "outputs": [
    {
     "name": "stdout",
     "output_type": "stream",
     "text": [
      "Collecting dict2xml\n",
      "  Downloading dict2xml-1.7.3-py3-none-any.whl (7.3 kB)\n",
      "Installing collected packages: dict2xml\n",
      "Successfully installed dict2xml-1.7.3\n"
     ]
    }
   ],
   "source": [
    "#! pip install zeep\n",
    "#! pip install dict2xml"
   ]
  },
  {
   "cell_type": "code",
   "execution_count": 9,
   "id": "a34f460c",
   "metadata": {},
   "outputs": [],
   "source": [
    "from zeep import Client\n",
    "from dict2xml import dict2xml"
   ]
  },
  {
   "cell_type": "code",
   "execution_count": null,
   "id": "1f70f39a",
   "metadata": {},
   "outputs": [],
   "source": [
    "#Public key: C905B88C-E44E-4A07-A30F-A328CAF973E8"
   ]
  },
  {
   "cell_type": "code",
   "execution_count": 3,
   "id": "dccef5f9",
   "metadata": {},
   "outputs": [],
   "source": [
    "wsdl = \"https://www1.gsis.gr:443/dsae2/wsgsis/iifservices/GetApplicationsBinding?wsdl\""
   ]
  },
  {
   "cell_type": "code",
   "execution_count": 5,
   "id": "99df8a0b",
   "metadata": {},
   "outputs": [],
   "source": [
    "client = Client(wsdl)"
   ]
  },
  {
   "cell_type": "code",
   "execution_count": 21,
   "id": "3f803081",
   "metadata": {},
   "outputs": [],
   "source": [
    "InstitutionVatNumber = \"800874006\"\n",
    "\n"
   ]
  },
  {
   "cell_type": "code",
   "execution_count": 14,
   "id": "ad879cbf",
   "metadata": {},
   "outputs": [],
   "source": [
    "RequestData = dict2xml({\"RequestData\":{\"System\":1}})\n",
    "    "
   ]
  },
  {
   "cell_type": "code",
   "execution_count": 15,
   "id": "326d3855",
   "metadata": {},
   "outputs": [
    {
     "name": "stdout",
     "output_type": "stream",
     "text": [
      "<RequestData>\n",
      "  <System>1</System>\n",
      "</RequestData>\n"
     ]
    }
   ],
   "source": [
    "print(RequestData)"
   ]
  },
  {
   "cell_type": "code",
   "execution_count": null,
   "id": "32b668b8",
   "metadata": {},
   "outputs": [],
   "source": [
    "#9f304133bd38c90c9f3a1bab32cd270f5da7fe91bde82ffdf62f2236c9588f40\n",
    "#https://emn178.github.io/online-tools/sha256.html"
   ]
  },
  {
   "cell_type": "code",
   "execution_count": 16,
   "id": "10760717",
   "metadata": {},
   "outputs": [],
   "source": [
    "EncryptedRequestDataHash = 'PM4ad/0SSA6lrRAIe6ipG/YxDyAkXZiAwbOYKNLtW+5kX7fcTzS2wYXDaPelPvZyAw1YfE6giI+QqAOXMUSqupKS2pGvobFou39jwndCNkzMuNNiOhYsmaQR9c6vQ+uT0S6YVnMwKyEtWYxaf49NBowWKlLiL63ei+Trds3xtKUJKsMa8rv6XCIG8RqAuIAh/TFRpBxgDjIlRegXV7LeMWy84yhWanP1rAfY8sqxqpKwzHBJI8RGVvy482ei13Mxp7Aq4quGUfP409Z6Hb3dKdEeQxL/0AW6hWU88weUeqqGmcM5M1P4BFiQFxJM+gsaqR95zzQi8O8htbSoagClQA=='"
   ]
  },
  {
   "cell_type": "code",
   "execution_count": 22,
   "id": "0fbce89c",
   "metadata": {},
   "outputs": [
    {
     "ename": "Fault",
     "evalue": "104",
     "output_type": "error",
     "traceback": [
      "\u001b[1;31m---------------------------------------------------------------------------\u001b[0m",
      "\u001b[1;31mFault\u001b[0m                                     Traceback (most recent call last)",
      "\u001b[1;32mC:\\Users\\249A~1\\AppData\\Local\\Temp/ipykernel_8024/935527882.py\u001b[0m in \u001b[0;36m<module>\u001b[1;34m\u001b[0m\n\u001b[1;32m----> 1\u001b[1;33m \u001b[0mresult\u001b[0m \u001b[1;33m=\u001b[0m \u001b[0mclient\u001b[0m\u001b[1;33m.\u001b[0m\u001b[0mservice\u001b[0m\u001b[1;33m.\u001b[0m\u001b[0mGetApplications\u001b[0m\u001b[1;33m(\u001b[0m\u001b[0mInstitutionVatNumber\u001b[0m\u001b[1;33m=\u001b[0m\u001b[0mInstitutionVatNumber\u001b[0m\u001b[1;33m,\u001b[0m \u001b[0mRequestData\u001b[0m\u001b[1;33m=\u001b[0m\u001b[0mRequestData\u001b[0m\u001b[1;33m,\u001b[0m\u001b[0mEncryptedRequestDataHash\u001b[0m \u001b[1;33m=\u001b[0m \u001b[0mEncryptedRequestDataHash\u001b[0m\u001b[1;33m)\u001b[0m\u001b[1;33m\u001b[0m\u001b[1;33m\u001b[0m\u001b[0m\n\u001b[0m",
      "\u001b[1;32mD:\\Anaconda\\lib\\site-packages\\zeep\\proxy.py\u001b[0m in \u001b[0;36m__call__\u001b[1;34m(self, *args, **kwargs)\u001b[0m\n\u001b[0;32m     44\u001b[0m             \u001b[0mkwargs\u001b[0m\u001b[1;33m[\u001b[0m\u001b[1;34m\"_soapheaders\"\u001b[0m\u001b[1;33m]\u001b[0m \u001b[1;33m=\u001b[0m \u001b[0msoap_headers\u001b[0m\u001b[1;33m\u001b[0m\u001b[1;33m\u001b[0m\u001b[0m\n\u001b[0;32m     45\u001b[0m \u001b[1;33m\u001b[0m\u001b[0m\n\u001b[1;32m---> 46\u001b[1;33m         return self._proxy._binding.send(\n\u001b[0m\u001b[0;32m     47\u001b[0m             \u001b[0mself\u001b[0m\u001b[1;33m.\u001b[0m\u001b[0m_proxy\u001b[0m\u001b[1;33m.\u001b[0m\u001b[0m_client\u001b[0m\u001b[1;33m,\u001b[0m\u001b[1;33m\u001b[0m\u001b[1;33m\u001b[0m\u001b[0m\n\u001b[0;32m     48\u001b[0m             \u001b[0mself\u001b[0m\u001b[1;33m.\u001b[0m\u001b[0m_proxy\u001b[0m\u001b[1;33m.\u001b[0m\u001b[0m_binding_options\u001b[0m\u001b[1;33m,\u001b[0m\u001b[1;33m\u001b[0m\u001b[1;33m\u001b[0m\u001b[0m\n",
      "\u001b[1;32mD:\\Anaconda\\lib\\site-packages\\zeep\\wsdl\\bindings\\soap.py\u001b[0m in \u001b[0;36msend\u001b[1;34m(self, client, options, operation, args, kwargs)\u001b[0m\n\u001b[0;32m    133\u001b[0m             \u001b[1;32mreturn\u001b[0m \u001b[0mresponse\u001b[0m\u001b[1;33m\u001b[0m\u001b[1;33m\u001b[0m\u001b[0m\n\u001b[0;32m    134\u001b[0m \u001b[1;33m\u001b[0m\u001b[0m\n\u001b[1;32m--> 135\u001b[1;33m         \u001b[1;32mreturn\u001b[0m \u001b[0mself\u001b[0m\u001b[1;33m.\u001b[0m\u001b[0mprocess_reply\u001b[0m\u001b[1;33m(\u001b[0m\u001b[0mclient\u001b[0m\u001b[1;33m,\u001b[0m \u001b[0moperation_obj\u001b[0m\u001b[1;33m,\u001b[0m \u001b[0mresponse\u001b[0m\u001b[1;33m)\u001b[0m\u001b[1;33m\u001b[0m\u001b[1;33m\u001b[0m\u001b[0m\n\u001b[0m\u001b[0;32m    136\u001b[0m \u001b[1;33m\u001b[0m\u001b[0m\n\u001b[0;32m    137\u001b[0m     \u001b[1;32masync\u001b[0m \u001b[1;32mdef\u001b[0m \u001b[0msend_async\u001b[0m\u001b[1;33m(\u001b[0m\u001b[0mself\u001b[0m\u001b[1;33m,\u001b[0m \u001b[0mclient\u001b[0m\u001b[1;33m,\u001b[0m \u001b[0moptions\u001b[0m\u001b[1;33m,\u001b[0m \u001b[0moperation\u001b[0m\u001b[1;33m,\u001b[0m \u001b[0margs\u001b[0m\u001b[1;33m,\u001b[0m \u001b[0mkwargs\u001b[0m\u001b[1;33m)\u001b[0m\u001b[1;33m:\u001b[0m\u001b[1;33m\u001b[0m\u001b[1;33m\u001b[0m\u001b[0m\n",
      "\u001b[1;32mD:\\Anaconda\\lib\\site-packages\\zeep\\wsdl\\bindings\\soap.py\u001b[0m in \u001b[0;36mprocess_reply\u001b[1;34m(self, client, operation, response)\u001b[0m\n\u001b[0;32m    227\u001b[0m         \u001b[0mfault_node\u001b[0m \u001b[1;33m=\u001b[0m \u001b[0mdoc\u001b[0m\u001b[1;33m.\u001b[0m\u001b[0mfind\u001b[0m\u001b[1;33m(\u001b[0m\u001b[1;34m\"soap-env:Body/soap-env:Fault\"\u001b[0m\u001b[1;33m,\u001b[0m \u001b[0mnamespaces\u001b[0m\u001b[1;33m=\u001b[0m\u001b[0mself\u001b[0m\u001b[1;33m.\u001b[0m\u001b[0mnsmap\u001b[0m\u001b[1;33m)\u001b[0m\u001b[1;33m\u001b[0m\u001b[1;33m\u001b[0m\u001b[0m\n\u001b[0;32m    228\u001b[0m         \u001b[1;32mif\u001b[0m \u001b[0mresponse\u001b[0m\u001b[1;33m.\u001b[0m\u001b[0mstatus_code\u001b[0m \u001b[1;33m!=\u001b[0m \u001b[1;36m200\u001b[0m \u001b[1;32mor\u001b[0m \u001b[0mfault_node\u001b[0m \u001b[1;32mis\u001b[0m \u001b[1;32mnot\u001b[0m \u001b[1;32mNone\u001b[0m\u001b[1;33m:\u001b[0m\u001b[1;33m\u001b[0m\u001b[1;33m\u001b[0m\u001b[0m\n\u001b[1;32m--> 229\u001b[1;33m             \u001b[1;32mreturn\u001b[0m \u001b[0mself\u001b[0m\u001b[1;33m.\u001b[0m\u001b[0mprocess_error\u001b[0m\u001b[1;33m(\u001b[0m\u001b[0mdoc\u001b[0m\u001b[1;33m,\u001b[0m \u001b[0moperation\u001b[0m\u001b[1;33m)\u001b[0m\u001b[1;33m\u001b[0m\u001b[1;33m\u001b[0m\u001b[0m\n\u001b[0m\u001b[0;32m    230\u001b[0m \u001b[1;33m\u001b[0m\u001b[0m\n\u001b[0;32m    231\u001b[0m         \u001b[0mresult\u001b[0m \u001b[1;33m=\u001b[0m \u001b[0moperation\u001b[0m\u001b[1;33m.\u001b[0m\u001b[0mprocess_reply\u001b[0m\u001b[1;33m(\u001b[0m\u001b[0mdoc\u001b[0m\u001b[1;33m)\u001b[0m\u001b[1;33m\u001b[0m\u001b[1;33m\u001b[0m\u001b[0m\n",
      "\u001b[1;32mD:\\Anaconda\\lib\\site-packages\\zeep\\wsdl\\bindings\\soap.py\u001b[0m in \u001b[0;36mprocess_error\u001b[1;34m(self, doc, operation)\u001b[0m\n\u001b[0;32m    389\u001b[0m         \u001b[1;31m# TODO: We should use the fault message as defined in the wsdl.\u001b[0m\u001b[1;33m\u001b[0m\u001b[1;33m\u001b[0m\u001b[0m\n\u001b[0;32m    390\u001b[0m         \u001b[0mdetail_node\u001b[0m \u001b[1;33m=\u001b[0m \u001b[0mfault_node\u001b[0m\u001b[1;33m.\u001b[0m\u001b[0mfind\u001b[0m\u001b[1;33m(\u001b[0m\u001b[1;34m\"soap-env:Detail\"\u001b[0m\u001b[1;33m,\u001b[0m \u001b[0mnamespaces\u001b[0m\u001b[1;33m=\u001b[0m\u001b[0mself\u001b[0m\u001b[1;33m.\u001b[0m\u001b[0mnsmap\u001b[0m\u001b[1;33m)\u001b[0m\u001b[1;33m\u001b[0m\u001b[1;33m\u001b[0m\u001b[0m\n\u001b[1;32m--> 391\u001b[1;33m         raise Fault(\n\u001b[0m\u001b[0;32m    392\u001b[0m             \u001b[0mmessage\u001b[0m\u001b[1;33m=\u001b[0m\u001b[0mmessage\u001b[0m\u001b[1;33m,\u001b[0m\u001b[1;33m\u001b[0m\u001b[1;33m\u001b[0m\u001b[0m\n\u001b[0;32m    393\u001b[0m             \u001b[0mcode\u001b[0m\u001b[1;33m=\u001b[0m\u001b[0mcode\u001b[0m\u001b[1;33m,\u001b[0m\u001b[1;33m\u001b[0m\u001b[1;33m\u001b[0m\u001b[0m\n",
      "\u001b[1;31mFault\u001b[0m: 104"
     ]
    }
   ],
   "source": [
    "result = client.service.GetApplications(InstitutionVatNumber=InstitutionVatNumber, RequestData=RequestData,EncryptedRequestDataHash = EncryptedRequestDataHash)"
   ]
  }
 ],
 "metadata": {
  "kernelspec": {
   "display_name": "Python 3 (ipykernel)",
   "language": "python",
   "name": "python3"
  },
  "language_info": {
   "codemirror_mode": {
    "name": "ipython",
    "version": 3
   },
   "file_extension": ".py",
   "mimetype": "text/x-python",
   "name": "python",
   "nbconvert_exporter": "python",
   "pygments_lexer": "ipython3",
   "version": "3.9.7"
  }
 },
 "nbformat": 4,
 "nbformat_minor": 5
}
