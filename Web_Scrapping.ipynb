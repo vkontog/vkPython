{
 "cells": [
  {
   "cell_type": "code",
   "execution_count": 2,
   "metadata": {},
   "outputs": [],
   "source": [
    "#!pip install bs4"
   ]
  },
  {
   "cell_type": "code",
   "execution_count": 3,
   "metadata": {},
   "outputs": [],
   "source": [
    "#import bs4\n",
    "from urllib.request import urlopen as uReq\n",
    "from bs4 import BeautifulSoup as soup"
   ]
  },
  {
   "cell_type": "code",
   "execution_count": 4,
   "metadata": {},
   "outputs": [],
   "source": [
    "my_url = \"https://www.capital.gr/forum\""
   ]
  },
  {
   "cell_type": "code",
   "execution_count": 5,
   "metadata": {},
   "outputs": [],
   "source": [
    "uClient = uReq(my_url)"
   ]
  },
  {
   "cell_type": "code",
   "execution_count": 6,
   "metadata": {},
   "outputs": [],
   "source": [
    "page_html = uClient.read()"
   ]
  },
  {
   "cell_type": "code",
   "execution_count": 7,
   "metadata": {},
   "outputs": [],
   "source": [
    "uClient.close()"
   ]
  },
  {
   "cell_type": "code",
   "execution_count": 8,
   "metadata": {},
   "outputs": [],
   "source": [
    "page_soup = soup(page_html,\"html.parser\")"
   ]
  },
  {
   "cell_type": "code",
   "execution_count": 9,
   "metadata": {},
   "outputs": [],
   "source": [
    "containers = page_soup.findAll(\"h3\",{\"class\":\"thread-title\"})"
   ]
  },
  {
   "cell_type": "code",
   "execution_count": 10,
   "metadata": {},
   "outputs": [],
   "source": [
    "titles = []\n",
    "\n",
    "for con in containers:\n",
    "    titles.append(con.a.text.strip())"
   ]
  },
  {
   "cell_type": "code",
   "execution_count": 11,
   "metadata": {},
   "outputs": [
    {
     "name": "stdout",
     "output_type": "stream",
     "text": [
      "['Που θα γυρισει ο γδ', 'Ταυρος - Παντος καιρου !', 'Η ΓΕΚ ενώπιον σημαντικών εξελίξεων', 'Ο ομιλος βγαινει πιο ισχυρος απο την κριση !', 'Ανάλυση ΟΤΕ', 'Τι συμβαινει εδω?', 'ΠΕΤΡΟ: ένα μικρό διαμάντι μεγαλώνει...', 'ΚΑΙΡΟΜΕΖ.Aνθρακας η θησαυρος η αξια της?Ειναι το νεο \"παιχνιδι\" του Χρηματιστηριου για τους βραχυπροθεσμους παικτες??', 'ΠΑΓΚΡΗΤΙΑ.ΤΡΑΠΕΖΑ.ΚΑΙ. ΑΛΛΑ .ΘΕΜΑΤΑΚΙΑ', 'Εν αρχή ην ο ήχος !!!', 'Το Μαρόκο μπήκε στην αραβική \"συμμαχία\" που μποϊκοτάρει de facto όλα τα τουρκικά προϊόντα', 'Γιατί βιάζεται ο Ερντογάν...', 'Μπαράζ διασταυρώσεων για αδήλωτα εισοδήματα', 'Άνοιξε τον πομπό του το Ορούτς Ρέις μετά από 24 ώρες: Πλέει σε περιοχή ανοιχτά από Κάρπαθο και Ρόδο', 'Νότια του Καστελόριζου βρέθηκε αιφνιδιαστικά τη νύχτα το τουρκικό γεωτρύπανο Kanuni', 'ΕΚΠΟΙΖΩ: Να αποσύρει η κυβέρνηση τη ρύθμιση περί αναπροσαρμογής των ασφαλίστρων από το πτωχευτικό δίκαιο', 'Οι θέσεις του Μπάιντεν για την τουρκική προκλητικότητα και τα ελληνικά ζητήματα', 'ΥΠΕΞ προς Τουρκία για την υπερπτήση: Ανάλογα απαράδεκτα περιστατικά να μην επαναληφθούν', 'Η Τουρκία κράτησε 20 λεπτά στον αέρα το κυβερνητικό αεροσκάφος που μετέφερε τον Δένδια', 'Οι Τούρκοι λένε ότι \"είδαν\" και ότι \"παρακολουθούσαν\" τα ελληνικά υποβρύχια - Δημοσίευσαν εικόνες', 'Γιατί βιάζεται ο Ερντογάν...', 'Η Τουρκία κράτησε 20 λεπτά στον αέρα το κυβερνητικό αεροσκάφος που μετέφερε τον Δένδια', 'Νότια του Καστελόριζου βρέθηκε αιφνιδιαστικά τη νύχτα το τουρκικό γεωτρύπανο Kanuni', 'Παρίσι και Βερολίνο δίνουν προθεσμία μιας εβδομάδας στην Άγκυρα', 'Ο Ερντογάν κλείνει την Πίτσος και τις βαμβακουργίες μας;', 'Μπαράζ διασταυρώσεων για αδήλωτα εισοδήματα', 'Εξηγήσεις από την Τουρκία ζητά η Ελλάδα για το περιστατικό με Δένδια -ειρωνεύεται η Τουρκία', 'Πίτσος: Η ιστορία μιας προδιαγεγραμμένης αποχώρησης', 'Τι σημαίνει η ρωσική τοποθέτηση για τα 12 ναυτικά μίλια', 'Τουρκία: κυρώσεις και χρήμα']\n"
     ]
    }
   ],
   "source": [
    "print(titles)"
   ]
  },
  {
   "cell_type": "code",
   "execution_count": 13,
   "metadata": {},
   "outputs": [],
   "source": [
    "#print(page_soup.prettify)"
   ]
  }
 ],
 "metadata": {
  "kernelspec": {
   "display_name": "Python 3",
   "language": "python",
   "name": "python3"
  },
  "language_info": {
   "codemirror_mode": {
    "name": "ipython",
    "version": 3
   },
   "file_extension": ".py",
   "mimetype": "text/x-python",
   "name": "python",
   "nbconvert_exporter": "python",
   "pygments_lexer": "ipython3",
   "version": "3.6.7"
  }
 },
 "nbformat": 4,
 "nbformat_minor": 2
}
